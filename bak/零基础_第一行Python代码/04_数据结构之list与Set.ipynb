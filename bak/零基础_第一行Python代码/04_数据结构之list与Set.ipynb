{
 "cells": [
  {
   "cell_type": "code",
   "execution_count": 4,
   "metadata": {},
   "outputs": [
    {
     "name": "stdout",
     "output_type": "stream",
     "text": [
      "[100, 'AA', False, 3.14, 'java', 'java'] <class 'list'> 6\n",
      "['java', 100, 'AA', False, 3.14, 'java', 'java', 'python']\n",
      "java\n",
      "None\n",
      "[100, False, 3.14, 'java', 'python']\n",
      "100\n",
      "False\n",
      "3.14\n",
      "java\n",
      "python\n"
     ]
    }
   ],
   "source": [
    "# list set tuple dict \n",
    "l = [100,'AA',False,3.14,'java',\"java\"]  # 中括号 + 逗号作为分隔符\n",
    "print(l,type(l),len(l))\n",
    "# 因为有顺序,所以可以追加元素\n",
    "l.append('python')\n",
    "# 可以在指定下标插入元素\n",
    "l.insert(0,'java')\n",
    "print(l)\n",
    "print(l.pop(-2))  # 被删除元素会返回\n",
    "# 根据内容来删除数据,不会返回删除的元素\n",
    "print(l.remove('AA'))\n",
    "# 根据索引删除元素\n",
    "del l[0]\n",
    "print(l)\n",
    "for i in l: # 序列: 可以被拆分的元素: str,list set tuple dict\n",
    "    print(i)"
   ]
  },
  {
   "cell_type": "code",
   "execution_count": 8,
   "metadata": {},
   "outputs": [
    {
     "name": "stdout",
     "output_type": "stream",
     "text": [
      "<class 'set'> {0, 'a', 'A'}\n",
      "None\n",
      "pop 0\n",
      "c\n",
      "a\n",
      "C\n"
     ]
    }
   ],
   "source": [
    "# set 集合: 通过大括号表示, 无序且不重复\n",
    "s = {'A','a','a',0}\n",
    "print(type(s),s)\n",
    "s.add('C')\n",
    "s.add('c')\n",
    "print(s.remove('A'))\n",
    "print('pop',s.pop())  # set无下标因此随机弹出一个元素\n",
    "for i in s:\n",
    "    print(i)"
   ]
  },
  {
   "cell_type": "code",
   "execution_count": null,
   "metadata": {},
   "outputs": [],
   "source": []
  }
 ],
 "metadata": {
  "kernelspec": {
   "display_name": "Python 3",
   "language": "python",
   "name": "python3"
  },
  "language_info": {
   "codemirror_mode": {
    "name": "ipython",
    "version": 3
   },
   "file_extension": ".py",
   "mimetype": "text/x-python",
   "name": "python",
   "nbconvert_exporter": "python",
   "pygments_lexer": "ipython3",
   "version": "3.7.6"
  }
 },
 "nbformat": 4,
 "nbformat_minor": 2
}
