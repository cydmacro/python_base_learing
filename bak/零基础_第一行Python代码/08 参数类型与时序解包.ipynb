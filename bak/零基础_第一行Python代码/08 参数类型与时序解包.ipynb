{
 "cells": [
  {
   "cell_type": "code",
   "execution_count": 3,
   "metadata": {},
   "outputs": [
    {
     "name": "stdout",
     "output_type": "stream",
     "text": [
      "admin 23\n"
     ]
    }
   ],
   "source": [
    "# 函数的四种类型参数：必填、缺省、可变、关键字\n",
    "\n",
    "# 参数数量不能少\n",
    "def showinfo(name,age):\n",
    "    print(name,age)\n",
    "    \n",
    "showinfo('admin',23)"
   ]
  },
  {
   "cell_type": "code",
   "execution_count": 4,
   "metadata": {},
   "outputs": [
    {
     "name": "stdout",
     "output_type": "stream",
     "text": [
      "admin 23 深圳\n",
      "admin 23 广州\n"
     ]
    }
   ],
   "source": [
    "# 参数有缺省值,这样可以提高函数调用的灵活性\n",
    "def showinfo(name,age,city='深圳'):\n",
    "     print(name,age,city)\n",
    "        \n",
    "showinfo('admin',23)\n",
    "showinfo('admin',23,'广州')"
   ]
  },
  {
   "cell_type": "code",
   "execution_count": 11,
   "metadata": {},
   "outputs": [
    {
     "name": "stdout",
     "output_type": "stream",
     "text": [
      "num: (1, 2, 3) <class 'tuple'>\n",
      "6\n",
      "num: (1, 2, 3, 4, 5, 6, 7) <class 'tuple'>\n",
      "28\n",
      "num: (8, 5, 6, 7) <class 'tuple'>\n",
      "26\n"
     ]
    }
   ],
   "source": [
    "# 一个*代表可变: 参数的数量可以改变\n",
    "def add(*num):\n",
    "    print('num:',num,type(num))\n",
    "    sum = 0\n",
    "    for i in num:\n",
    "        sum += i \n",
    "    return sum\n",
    "    \n",
    "print(add(1,2,3))\n",
    "print(add(1,2,3,4,5,6,7))\n",
    "\n",
    "# 可变参数的时序解包功能\n",
    "l = {5,6,7,8}  # 序列\n",
    "# 调用时一个* ,就是对参数进行解包\n",
    "print(add(*l))"
   ]
  },
  {
   "cell_type": "code",
   "execution_count": 21,
   "metadata": {},
   "outputs": [
    {
     "name": "stdout",
     "output_type": "stream",
     "text": [
      "admin 18 {'age1': 20, 'city': '背景', 'tel': 183} <class 'dict'>\n",
      "admin 20 {'city': '背景', 'tel': 183} <class 'dict'>\n"
     ]
    }
   ],
   "source": [
    "# 在函数定义时 ** 代表关键字参数\n",
    "def showinfo(name,age=18,**other):\n",
    "    print(name, age, other,type(other))\n",
    "\n",
    "# 关键字参数格式: 参数 = 参数值\n",
    "showinfo(name = 'admin',age1 = 20,city = '背景',tel = 183)\n",
    "# 调用时 ** 则是对关键字参数进行解包\n",
    "d = {'city':'背景','tel':183}\n",
    "showinfo(name = 'admin',age = 20,**d)"
   ]
  },
  {
   "cell_type": "code",
   "execution_count": null,
   "metadata": {},
   "outputs": [],
   "source": []
  }
 ],
 "metadata": {
  "kernelspec": {
   "display_name": "Python 3",
   "language": "python",
   "name": "python3"
  },
  "language_info": {
   "codemirror_mode": {
    "name": "ipython",
    "version": 3
   },
   "file_extension": ".py",
   "mimetype": "text/x-python",
   "name": "python",
   "nbconvert_exporter": "python",
   "pygments_lexer": "ipython3",
   "version": "3.7.6"
  }
 },
 "nbformat": 4,
 "nbformat_minor": 2
}
