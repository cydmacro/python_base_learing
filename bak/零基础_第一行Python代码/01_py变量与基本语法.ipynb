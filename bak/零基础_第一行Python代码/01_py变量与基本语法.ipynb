{
 "cells": [
  {
   "cell_type": "code",
   "execution_count": 2,
   "metadata": {},
   "outputs": [
    {
     "name": "stdout",
     "output_type": "stream",
     "text": [
      "<class 'int'>\n",
      "<class 'str'>\n"
     ]
    }
   ],
   "source": [
    "a = 10   # 变量类型取决于数据\n",
    "print(type(a))\n",
    "a = \"10\"\n",
    "print(type(a))\n",
    "# b  # 变量必须初始化在使用\n",
    "# print(b)"
   ]
  },
  {
   "cell_type": "code",
   "execution_count": 3,
   "metadata": {},
   "outputs": [
    {
     "name": "stdout",
     "output_type": "stream",
     "text": [
      "h\n",
      "hello\n",
      "python\n",
      "hello python\n"
     ]
    }
   ],
   "source": [
    "s = \"hello python\"\n",
    "# py可以通过切片方便获取字符串\n",
    "print(s[0])   # 获取某个字符\n",
    "print(s[0:5]) # 半闭半开区间\n",
    "print(s[6:len(s)])  # len与type、print一样属于内置函数\n",
    "print(s[:5],s[6:])"
   ]
  },
  {
   "cell_type": "code",
   "execution_count": 4,
   "metadata": {},
   "outputs": [
    {
     "name": "stdout",
     "output_type": "stream",
     "text": [
      "3.141593\n",
      "0000003.14\n",
      "hello world\n",
      "张三今年19岁,体重为60.49公斤\n"
     ]
    }
   ],
   "source": [
    "# str格式化输出，py很多语法参照是C语言\n",
    "print('%f' % 3.1415926)\n",
    "print('%010.2f' % 3.1415926)  #\n",
    "print('%s' % 'hello world')\n",
    "name = '张三'\n",
    "age = 18\n",
    "weight = 60.49\n",
    "# py3.6之后的版本支持此语法\n",
    "print(f'{name}今年{age+1}岁,体重为{weight}公斤')"
   ]
  },
  {
   "cell_type": "code",
   "execution_count": 5,
   "metadata": {},
   "outputs": [
    {
     "name": "stdout",
     "output_type": "stream",
     "text": [
      "    hello world     \n",
      "====hello world=====\n",
      "hello world=========\n",
      "=========hello world\n"
     ]
    }
   ],
   "source": [
    "print('hello world'.center(20))\n",
    "print('hello world'.center(20,'='))\n",
    "print('hello world'.ljust(20,'='))\n",
    "print('hello world'.rjust(20,'='))"
   ]
  }
 ],
 "metadata": {
  "kernelspec": {
   "display_name": "3.12",
   "language": "python",
   "name": "python3"
  },
  "language_info": {
   "codemirror_mode": {
    "name": "ipython",
    "version": 3
   },
   "file_extension": ".py",
   "mimetype": "text/x-python",
   "name": "python",
   "nbconvert_exporter": "python",
   "pygments_lexer": "ipython3",
   "version": "3.12.11"
  }
 },
 "nbformat": 4,
 "nbformat_minor": 4
}
