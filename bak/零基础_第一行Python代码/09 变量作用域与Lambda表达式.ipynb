{
 "cells": [
  {
   "cell_type": "code",
   "execution_count": 1,
   "metadata": {},
   "outputs": [
    {
     "name": "stdout",
     "output_type": "stream",
     "text": [
      "50\n",
      "50\n",
      "100\n",
      "100\n"
     ]
    }
   ],
   "source": [
    "# if for try 中定义的变量,在外部是可以访问的\n",
    "\n",
    "for i in range(3):  # 0,1,2\n",
    "    if i == 2:\n",
    "        num = 100\n",
    "    else:\n",
    "        num = 50\n",
    "    print(num)\n",
    "print(num)"
   ]
  },
  {
   "cell_type": "code",
   "execution_count": 5,
   "metadata": {},
   "outputs": [
    {
     "name": "stdout",
     "output_type": "stream",
     "text": [
      "func1 a= 5\n",
      "func2 a= 10\n",
      "func3 a= 25\n"
     ]
    },
    {
     "ename": "NameError",
     "evalue": "name 'b' is not defined",
     "output_type": "error",
     "traceback": [
      "\u001b[1;31m---------------------------------------------------------------------------\u001b[0m",
      "\u001b[1;31mNameError\u001b[0m                                 Traceback (most recent call last)",
      "\u001b[1;32m<ipython-input-5-b56e28b6bfbf>\u001b[0m in \u001b[0;36m<module>\u001b[1;34m\u001b[0m\n\u001b[0;32m     21\u001b[0m \u001b[0mfunc2\u001b[0m\u001b[1;33m(\u001b[0m\u001b[1;33m)\u001b[0m\u001b[1;33m\u001b[0m\u001b[1;33m\u001b[0m\u001b[0m\n\u001b[0;32m     22\u001b[0m \u001b[0mfunc3\u001b[0m\u001b[1;33m(\u001b[0m\u001b[1;33m)\u001b[0m\u001b[1;33m\u001b[0m\u001b[1;33m\u001b[0m\u001b[0m\n\u001b[1;32m---> 23\u001b[1;33m \u001b[0mprint\u001b[0m\u001b[1;33m(\u001b[0m\u001b[1;34m'b='\u001b[0m\u001b[1;33m,\u001b[0m\u001b[0mb\u001b[0m\u001b[1;33m)\u001b[0m\u001b[1;33m\u001b[0m\u001b[1;33m\u001b[0m\u001b[0m\n\u001b[0m",
      "\u001b[1;31mNameError\u001b[0m: name 'b' is not defined"
     ]
    }
   ],
   "source": [
    "# 函数和类中定义的变量,就是局部的,外部不能被访问\n",
    "a = 5 # 外部变量\n",
    "\n",
    "def func1():\n",
    "    # 外部定义变量,在函数内可以显示\n",
    "    print('func1 a=',a)\n",
    "    \n",
    "def func2():\n",
    "    a = 10 \n",
    "    # 就近原则\n",
    "    print('func2 a=',a)\n",
    "    \n",
    "def func3():\n",
    "    global a # 当前操作是外部变量 \n",
    "    # 就近原则\n",
    "    a = a + 20\n",
    "    print('func3 a=',a)\n",
    "    b = 100\n",
    "    \n",
    "func1()\n",
    "func2()\n",
    "func3()\n",
    "print('b=',b)"
   ]
  },
  {
   "cell_type": "code",
   "execution_count": 6,
   "metadata": {},
   "outputs": [
    {
     "name": "stdout",
     "output_type": "stream",
     "text": [
      "add函数的地址为: <function add at 0x000001F50FE67EE8>\n",
      "add2函数的地址为: <function <lambda> at 0x000001F50FE67288>\n",
      "10\n",
      "17\n",
      "15\n"
     ]
    }
   ],
   "source": [
    "# 提供了单行函数的解决方案\n",
    "def add(x=5,y=10):\n",
    "    return x+y\n",
    "\n",
    "add2 = lambda x=5,y=10 : x+y\n",
    "\n",
    "print('add函数的地址为:',add)\n",
    "print('add2函数的地址为:',add2)\n",
    "\n",
    "print(add(3,7))\n",
    "print(add2(8,9))\n",
    "print(add2())"
   ]
  },
  {
   "cell_type": "code",
   "execution_count": null,
   "metadata": {},
   "outputs": [],
   "source": []
  }
 ],
 "metadata": {
  "kernelspec": {
   "display_name": "Python 3",
   "language": "python",
   "name": "python3"
  },
  "language_info": {
   "codemirror_mode": {
    "name": "ipython",
    "version": 3
   },
   "file_extension": ".py",
   "mimetype": "text/x-python",
   "name": "python",
   "nbconvert_exporter": "python",
   "pygments_lexer": "ipython3",
   "version": "3.7.6"
  }
 },
 "nbformat": 4,
 "nbformat_minor": 2
}
