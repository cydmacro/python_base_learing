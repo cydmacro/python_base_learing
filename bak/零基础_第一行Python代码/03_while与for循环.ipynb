{
 "cells": [
  {
   "cell_type": "code",
   "execution_count": 1,
   "metadata": {},
   "outputs": [
    {
     "name": "stdout",
     "output_type": "stream",
     "text": [
      "请输入邮箱地址sss\n",
      "邮箱格式不正确\n",
      "请输入邮箱地址eee\n",
      "邮箱格式不正确\n",
      "请输入邮箱地址1000@qq.com\n",
      "您的邮箱用户名为:1000\n",
      "您的邮箱类型为:qq.com\n",
      "谢谢您的输入\n"
     ]
    }
   ],
   "source": [
    "# python 是没有 do....while\n",
    "# while 条件判断:\n",
    "#    执行语句块\n",
    "# while 一般用于不知道循环次数的情况\n",
    "while True:\n",
    "    email = input('请输入邮箱地址')\n",
    "    index = email.find('@')\n",
    "    if index==-1:\n",
    "        print('邮箱格式不正确')\n",
    "    else:\n",
    "        print(f'您的邮箱用户名为:{email[0:index]}')\n",
    "        print(f'您的邮箱类型为:{email[index+1:]}')\n",
    "        break # 退出当前循环\n",
    "print('谢谢您的输入')"
   ]
  },
  {
   "cell_type": "code",
   "execution_count": 7,
   "metadata": {},
   "outputs": [
    {
     "name": "stdout",
     "output_type": "stream",
     "text": [
      "1\n",
      "2\n",
      "3\n"
     ]
    }
   ],
   "source": [
    "# 如果知道循环的次数则建议使用for循环\n",
    "# for 变量 in 序列  # 可拆分的数据类型\n",
    "# for s in 'hello':\n",
    "#     print(s)\n",
    "for i in range(1,5):  # 1,2,3,4\n",
    "    print(i)\n",
    "    if i ==3:\n",
    "        break\n",
    "else:   # while\n",
    "    print(f'循环正常结束才会执行且执行一次,此时i={i}')"
   ]
  },
  {
   "cell_type": "code",
   "execution_count": 11,
   "metadata": {},
   "outputs": [
    {
     "name": "stdout",
     "output_type": "stream",
     "text": [
      "请输入邮箱地址ds\n",
      "邮箱格式不正确\n",
      "请输入邮箱地址sss\n",
      "邮箱格式不正确\n",
      "请输入邮箱地址1000@qq.com\n",
      "您的邮箱用户名为:1000\n",
      "您的邮箱类型为:qq.com\n"
     ]
    }
   ],
   "source": [
    "for i in range(1,4):  # 1,2,3\n",
    "    email = input('请输入邮箱地址')\n",
    "    index = email.find('@')\n",
    "    if index==-1:\n",
    "        print('邮箱格式不正确')\n",
    "    else:\n",
    "        print(f'您的邮箱用户名为:{email[0:index]}')\n",
    "        print(f'您的邮箱类型为:{email[index+1:]}')\n",
    "        break\n",
    "else:\n",
    "    print(f'已经输错{i}次,账户将被锁定')"
   ]
  },
  {
   "cell_type": "code",
   "execution_count": null,
   "metadata": {},
   "outputs": [],
   "source": []
  }
 ],
 "metadata": {
  "kernelspec": {
   "display_name": "Python 3",
   "language": "python",
   "name": "python3"
  },
  "language_info": {
   "codemirror_mode": {
    "name": "ipython",
    "version": 3
   },
   "file_extension": ".py",
   "mimetype": "text/x-python",
   "name": "python",
   "nbconvert_exporter": "python",
   "pygments_lexer": "ipython3",
   "version": "3.7.6"
  }
 },
 "nbformat": 4,
 "nbformat_minor": 2
}
