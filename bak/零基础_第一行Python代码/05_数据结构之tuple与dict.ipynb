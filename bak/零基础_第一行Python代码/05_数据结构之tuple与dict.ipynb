{
 "cells": [
  {
   "cell_type": "code",
   "execution_count": 6,
   "metadata": {},
   "outputs": [
    {
     "name": "stdout",
     "output_type": "stream",
     "text": [
      "('google', 'baidu', 'java', 2020) <class 'tuple'>\n"
     ]
    },
    {
     "ename": "NameError",
     "evalue": "name 't' is not defined",
     "output_type": "error",
     "traceback": [
      "\u001b[1;31m---------------------------------------------------------------------------\u001b[0m",
      "\u001b[1;31mNameError\u001b[0m                                 Traceback (most recent call last)",
      "\u001b[1;32m<ipython-input-6-2bf1c300290a>\u001b[0m in \u001b[0;36m<module>\u001b[1;34m\u001b[0m\n\u001b[0;32m      4\u001b[0m \u001b[1;31m# t.append('oracle')\u001b[0m\u001b[1;33m\u001b[0m\u001b[1;33m\u001b[0m\u001b[1;33m\u001b[0m\u001b[0m\n\u001b[0;32m      5\u001b[0m \u001b[1;32mdel\u001b[0m \u001b[0mt\u001b[0m \u001b[1;31m# t[0]\u001b[0m\u001b[1;33m\u001b[0m\u001b[1;33m\u001b[0m\u001b[0m\n\u001b[1;32m----> 6\u001b[1;33m \u001b[0mprint\u001b[0m\u001b[1;33m(\u001b[0m\u001b[0mt\u001b[0m\u001b[1;33m)\u001b[0m\u001b[1;33m\u001b[0m\u001b[1;33m\u001b[0m\u001b[0m\n\u001b[0m",
      "\u001b[1;31mNameError\u001b[0m: name 't' is not defined"
     ]
    }
   ],
   "source": [
    "# tuple 它与list相同只是它仅仅只读，且用小括号表示\n",
    "t = ('google','baidu','java',2020)\n",
    "print(t,type(t))\n",
    "# t.append('oracle')\n",
    "del t # t[0]\n",
    "print(t)"
   ]
  },
  {
   "cell_type": "code",
   "execution_count": 8,
   "metadata": {},
   "outputs": [
    {
     "name": "stdout",
     "output_type": "stream",
     "text": [
      "(1, 2, 3) <class 'tuple'> 2355515707544\n",
      "(1, 2)\n",
      "(1, 2, 3, 4, 5, 6) <class 'tuple'> 2355525410440\n"
     ]
    }
   ],
   "source": [
    "t = (1,2,3)\n",
    "print(t,type(t),id(t))\n",
    "print(t[:2])\n",
    "t2 = t + (4,5,6)\n",
    "print(t2,type(t2),id(t2))"
   ]
  },
  {
   "cell_type": "code",
   "execution_count": 16,
   "metadata": {},
   "outputs": [
    {
     "name": "stdout",
     "output_type": "stream",
     "text": [
      "小强 A型\n",
      "小强\n",
      "7\n",
      "深圳\n",
      "----------------------------------------------------------------------------------------------------\n",
      "('name', '小强')\n",
      "('age', 8)\n",
      "('school', '人工智能')\n"
     ]
    }
   ],
   "source": [
    "# dict 字典, 它可以存储任意的数据结构, 类似java map数据类型  { key: value,key:value}\n",
    "d = {'name': '小强','age':7,'address':'深圳'}\n",
    "print(d['name'],d.get('blood','A型'))\n",
    "\n",
    "for item in d.values():\n",
    "    print(item)\n",
    "    \n",
    "d['age'] = 8\n",
    "d['school'] = '人工智能'\n",
    "del d['address']\n",
    "print('-' * 100)\n",
    "for item in d.items():\n",
    "    print(item)"
   ]
  },
  {
   "cell_type": "code",
   "execution_count": 20,
   "metadata": {},
   "outputs": [
    {
     "name": "stdout",
     "output_type": "stream",
     "text": [
      "{2, 3, 4} <class 'set'>\n",
      "{'name': '小强', 'age': 7, 'address': '深圳'} <class 'dict'>\n",
      "{} <class 'dict'>\n",
      "set() <class 'set'>\n"
     ]
    }
   ],
   "source": [
    "# set dict 都是采用大括号\n",
    "s = {2,3,4}\n",
    "print(s,type(s))\n",
    "s = {'name': '小强','age':7,'address':'深圳'}\n",
    "print(s,type(s))\n",
    "s = {}  # 如果是空大括号,则默认代表dict\n",
    "print(s,type(s))\n",
    "s = set() # 创建空集合的语法\n",
    "print(s,type(s))"
   ]
  },
  {
   "cell_type": "code",
   "execution_count": 24,
   "metadata": {},
   "outputs": [
    {
     "name": "stdout",
     "output_type": "stream",
     "text": [
      "(1,) <class 'tuple'>\n"
     ]
    }
   ],
   "source": [
    "t = (1,) # 如果元组只有一个元素,则后面必须添加逗号\n",
    "print(t,type(t))"
   ]
  },
  {
   "cell_type": "code",
   "execution_count": null,
   "metadata": {},
   "outputs": [],
   "source": []
  }
 ],
 "metadata": {
  "kernelspec": {
   "display_name": "Python 3",
   "language": "python",
   "name": "python3"
  },
  "language_info": {
   "codemirror_mode": {
    "name": "ipython",
    "version": 3
   },
   "file_extension": ".py",
   "mimetype": "text/x-python",
   "name": "python",
   "nbconvert_exporter": "python",
   "pygments_lexer": "ipython3",
   "version": "3.7.6"
  }
 },
 "nbformat": 4,
 "nbformat_minor": 4
}
