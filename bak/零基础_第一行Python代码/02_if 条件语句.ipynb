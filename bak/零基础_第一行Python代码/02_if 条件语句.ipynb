{
 "cells": [
  {
   "cell_type": "code",
   "execution_count": 1,
   "metadata": {},
   "outputs": [
    {
     "name": "stdout",
     "output_type": "stream",
     "text": [
      "请输入邮箱地址123456@qq.com\n",
      "您的邮箱用户名为:123456\n",
      "您的邮箱类型为:qq.com\n"
     ]
    }
   ],
   "source": [
    "email = input('请输入邮箱地址')\n",
    "index = email.find('@')\n",
    "print(f'您的邮箱用户名为:{email[0:index]}')\n",
    "print(f'您的邮箱类型为:{email[index+1:]}')"
   ]
  },
  {
   "cell_type": "code",
   "execution_count": 6,
   "metadata": {},
   "outputs": [
    {
     "name": "stdout",
     "output_type": "stream",
     "text": [
      "请输入邮箱地址1234@qq.com\n",
      "您的邮箱用户名为:1234\n",
      "您的邮箱类型为:qq.com\n"
     ]
    }
   ],
   "source": [
    "# 通过if来完成邮箱格式的验证与提示\n",
    "email = input('请输入邮箱地址')\n",
    "index = email.find('@')\n",
    "if index==-1:\n",
    "    print('邮箱格式不正确')\n",
    "else:\n",
    "    print(f'您的邮箱用户名为:{email[0:index]}')\n",
    "    print(f'您的邮箱类型为:{email[index+1:]}')"
   ]
  },
  {
   "cell_type": "code",
   "execution_count": 7,
   "metadata": {},
   "outputs": [
    {
     "name": "stdout",
     "output_type": "stream",
     "text": [
      "请输入邮箱地址@12345\n",
      "邮箱格式不@开头\n"
     ]
    }
   ],
   "source": [
    "# 通过多if语句来完成邮箱格式的验证与提示\n",
    "\n",
    "email = input('请输入邮箱地址')\n",
    "index = email.find('@')\n",
    "if index==-1:\n",
    "    print('邮箱格式不正确')\n",
    "elif index ==0:\n",
    "    print('邮箱格式不@开头')\n",
    "else:\n",
    "    print(f'您的邮箱用户名为:{email[0:index]}')\n",
    "    print(f'您的邮箱类型为:{email[index+1:]}')"
   ]
  },
  {
   "cell_type": "code",
   "execution_count": 13,
   "metadata": {},
   "outputs": [
    {
     "name": "stdout",
     "output_type": "stream",
     "text": [
      "请输入一个数字5\n",
      "您输入的数字不能被2与3整除!\n"
     ]
    }
   ],
   "source": [
    "# 嵌套if语句\n",
    "num = int(input('请输入一个数字'))\n",
    "if num%2==0:\n",
    "    if num%3==0:\n",
    "        print('您输入的数字可以被2与3整除!')\n",
    "    else:\n",
    "        print('您输入的数字只能被2整除!')\n",
    "else:\n",
    "    if num%3==0:\n",
    "        print('您输入的数字可以被3整除!')\n",
    "    else:\n",
    "        print('您输入的数字不能被2与3整除!')"
   ]
  },
  {
   "cell_type": "code",
   "execution_count": 2,
   "metadata": {},
   "outputs": [
    {
     "name": "stdout",
     "output_type": "stream",
     "text": [
      "name:admin,arg:(1, 2, 3),key:{'age': 18, 'address': '广州'}\n"
     ]
    }
   ],
   "source": [
    "def index(name,*arg,**key):\n",
    "    print(f'name:{name},arg:{arg},key:{key}')\n",
    "    \n",
    "index('admin',1,2,3,age=18,address='广州')"
   ]
  },
  {
   "cell_type": "code",
   "execution_count": null,
   "metadata": {},
   "outputs": [],
   "source": []
  }
 ],
 "metadata": {
  "kernelspec": {
   "display_name": "Python 3",
   "language": "python",
   "name": "python3"
  },
  "language_info": {
   "codemirror_mode": {
    "name": "ipython",
    "version": 3
   },
   "file_extension": ".py",
   "mimetype": "text/x-python",
   "name": "python",
   "nbconvert_exporter": "python",
   "pygments_lexer": "ipython3",
   "version": "3.7.6"
  }
 },
 "nbformat": 4,
 "nbformat_minor": 2
}
