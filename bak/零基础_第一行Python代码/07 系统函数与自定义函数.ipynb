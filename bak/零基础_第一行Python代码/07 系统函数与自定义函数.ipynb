{
 "cells": [
  {
   "cell_type": "code",
   "execution_count": 11,
   "metadata": {},
   "outputs": [
    {
     "name": "stdout",
     "output_type": "stream",
     "text": [
      "hello python\n",
      "3\n",
      "Help on built-in function print in module builtins:\n",
      "\n",
      "print(...)\n",
      "    print(value, ..., sep=' ', end='\\n', file=sys.stdout, flush=False)\n",
      "    \n",
      "    Prints the values to a stream, or to sys.stdout by default.\n",
      "    Optional keyword arguments:\n",
      "    file:  a file-like object (stream); defaults to the current sys.stdout.\n",
      "    sep:   string inserted between values, default a space.\n",
      "    end:   string appended after the last value, default a newline.\n",
      "    flush: whether to forcibly flush the stream.\n",
      "\n",
      "Help on method randint in module random:\n",
      "\n",
      "randint(a, b) method of random.Random instance\n",
      "    Return random integer in range [a, b], including both end points.\n",
      "\n"
     ]
    }
   ],
   "source": [
    "# 函数分为两种：系统函数 (print type id), 自定义函数\n",
    "print('hello python')\n",
    "print(max(1,2,3))\n",
    "help(print)\n",
    "import random\n",
    "help(random.randint)"
   ]
  },
  {
   "cell_type": "code",
   "execution_count": 5,
   "metadata": {},
   "outputs": [
    {
     "name": "stdout",
     "output_type": "stream",
     "text": [
      "a: 100\n",
      "None\n",
      "(4, 3) <class 'tuple'>\n",
      "4 3\n"
     ]
    }
   ],
   "source": [
    "# 如何自定义函数\n",
    "# def 函数名(参数,参数):\n",
    "       # 函数体\n",
    "       # return value\n",
    "def hello(a):\n",
    "    print('a:',a)\n",
    "    \n",
    "print(hello(100))\n",
    "\n",
    "# 函数可以返回多个值\n",
    "def change(a,b):\n",
    "    return b,a\n",
    "\n",
    "a = change(3,4)\n",
    "print(a,type(a))\n",
    "\n",
    "x,y = change(3,4)\n",
    "print(x,y)"
   ]
  },
  {
   "cell_type": "code",
   "execution_count": null,
   "metadata": {},
   "outputs": [
    {
     "name": "stdout",
     "output_type": "stream",
     "text": [
      "------------------------------------------采用set集合存储不重复的随机数------------------------------------------\n"
     ]
    }
   ],
   "source": [
    "# 采用自定义函数,来封装随机数生成\n",
    "\n",
    "import random\n",
    "print('采用set集合存储不重复的随机数'.center(100,'-'))\n",
    "def random_number(number,start,end):\n",
    "    s = set()  # {} 默认是dict  函数内的变量是局部变量,当函数调用完毕则消失\n",
    "    while len(s)<number:\n",
    "        e = random.randint(start,end)\n",
    "        s.add(e)  # 此处没有append方法\n",
    "    return s\n",
    "\n",
    "s = random_number(10,1,9)\n",
    "print(s)"
   ]
  },
  {
   "cell_type": "code",
   "execution_count": 3,
   "metadata": {},
   "outputs": [
    {
     "name": "stdout",
     "output_type": "stream",
     "text": [
      "age:11岁\n",
      "<function myfn at 0x000001ABE21224C8>\n",
      "age:24岁\n"
     ]
    }
   ],
   "source": [
    "def myfn(age):\n",
    "    print(f'age:{age+1}岁')\n",
    "    \n",
    "myfn(10) # 调用函数\n",
    "print(myfn)  # 函数名是当前函数在内存的地址\n",
    "temp = myfn  # 函数地址赋值另一个变量\n",
    "temp(23)"
   ]
  },
  {
   "cell_type": "code",
   "execution_count": null,
   "metadata": {},
   "outputs": [],
   "source": []
  }
 ],
 "metadata": {
  "kernelspec": {
   "display_name": "Python 3",
   "language": "python",
   "name": "python3"
  },
  "language_info": {
   "codemirror_mode": {
    "name": "ipython",
    "version": 3
   },
   "file_extension": ".py",
   "mimetype": "text/x-python",
   "name": "python",
   "nbconvert_exporter": "python",
   "pygments_lexer": "ipython3",
   "version": "3.7.6"
  }
 },
 "nbformat": 4,
 "nbformat_minor": 2
}
