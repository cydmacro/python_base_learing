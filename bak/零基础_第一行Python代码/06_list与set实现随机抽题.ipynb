{
 "cells": [
  {
   "cell_type": "code",
   "execution_count": null,
   "metadata": {},
   "outputs": [],
   "source": [
    "# 案例的需求:\n",
    "# 题库中有100道题, 编写一个小功能实现随机抽取不重复的10道题\n",
    "# random模块, list 存储 在通过set来优化"
   ]
  },
  {
   "cell_type": "code",
   "execution_count": 10,
   "metadata": {},
   "outputs": [
    {
     "name": "stdout",
     "output_type": "stream",
     "text": [
      "1,10,6,8,8,5,7,2,8,4,False\n"
     ]
    }
   ],
   "source": [
    "import random  # 导入随机数模块\n",
    "# 指定循环10次\n",
    "for i in range(10):\n",
    "    print(random.randint(1,10),end=',')  # shift + tab\n",
    "\n",
    "print(3 in [1,2,3])"
   ]
  },
  {
   "cell_type": "code",
   "execution_count": 13,
   "metadata": {},
   "outputs": [
    {
     "name": "stdout",
     "output_type": "stream",
     "text": [
      "-----------------------------------------采用list列表存储不重复的随机数------------------------------------------\n",
      "[4, 2, 9, 3, 1, 7, 5, 8, 6, 10]\n"
     ]
    }
   ],
   "source": [
    "# list结构来存储不重复的随机数\n",
    "import random\n",
    "number = 10\n",
    "print('采用list列表存储不重复的随机数'.center(100,'-'))\n",
    "l = []  # list\n",
    "while True:\n",
    "    e = random.randint(1,100)\n",
    "    if e not in l:\n",
    "        l.append(e)\n",
    "        if len(l) == number:\n",
    "            break\n",
    "print(l)"
   ]
  },
  {
   "cell_type": "code",
   "execution_count": 15,
   "metadata": {},
   "outputs": [
    {
     "name": "stdout",
     "output_type": "stream",
     "text": [
      "------------------------------------------采用set集合存储不重复的随机数------------------------------------------\n",
      "{89, 65, 71, 7, 41, 39, 44, 83, 25, 29}\n"
     ]
    }
   ],
   "source": [
    "# set结构来存储不重复的随机数\n",
    "import random\n",
    "number = 10\n",
    "print('采用set集合存储不重复的随机数'.center(100,'-'))\n",
    "s = set()  # {} 默认是dict\n",
    "while len(s)<number:\n",
    "    e = random.randint(1,100)\n",
    "    s.add(e)  # 此处没有append方法\n",
    "print(s)"
   ]
  },
  {
   "cell_type": "code",
   "execution_count": null,
   "metadata": {},
   "outputs": [],
   "source": []
  }
 ],
 "metadata": {
  "kernelspec": {
   "display_name": "Python 3",
   "language": "python",
   "name": "python3"
  },
  "language_info": {
   "codemirror_mode": {
    "name": "ipython",
    "version": 3
   },
   "file_extension": ".py",
   "mimetype": "text/x-python",
   "name": "python",
   "nbconvert_exporter": "python",
   "pygments_lexer": "ipython3",
   "version": "3.7.6"
  }
 },
 "nbformat": 4,
 "nbformat_minor": 2
}
