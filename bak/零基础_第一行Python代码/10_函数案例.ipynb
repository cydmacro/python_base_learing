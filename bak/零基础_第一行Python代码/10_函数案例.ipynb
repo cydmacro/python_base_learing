{
 "cells": [
  {
   "cell_type": "code",
   "execution_count": 3,
   "metadata": {},
   "outputs": [
    {
     "name": "stdout",
     "output_type": "stream",
     "text": [
      "请输入要猜的数值abc\n",
      "必须输入数字.........\n"
     ]
    }
   ],
   "source": [
    "# 定义一个函数实现猜数的功能\n",
    "import random\n",
    "\n",
    "# 异常: 运行时的错误, 网络访问、数据库读取、文件读写、输入输出时会有异常操作\n",
    "\n",
    "def guess(maxValue = 10,maxTimes = 3):\n",
    "    # 随机生成一个整数\n",
    "    value = random.randint(1,maxValue)  # shfit + tab查看参数\n",
    "    for i in range(maxTimes):\n",
    "        try:\n",
    "            num = int(input('请输入要猜的数值'))\n",
    "        except:\n",
    "            # 有异常执行此语句块\n",
    "            print(f'必须输入数字.........')\n",
    "            break\n",
    "        else:  # 没有异常则执行此语句块\n",
    "            if num == value:\n",
    "                print('恭喜你,猜对了!')\n",
    "            elif num > value:\n",
    "                print('数值太大')\n",
    "            else:\n",
    "                print('数值太小')\n",
    "    else:\n",
    "        # for正常结束才会进入else\n",
    "        print(f'游戏结束,正确答案为{value}')\n",
    "        \n",
    "guess(10,3)"
   ]
  },
  {
   "cell_type": "markdown",
   "metadata": {},
   "source": [
    "**二分查找算法非常适合在大数据中查找指定的元素,要求序列已经排好序**\n",
    "\n",
    "1. 首先测试在中间位置上的元素是否为想查找的元素,如果是则结束算法\n",
    "2. 如果序列中位置上的元素比要找的元素小,则在序列后面一半元素中继续查找,反正在前面一半元素中继续查找\n",
    "3. 重复上面的过程 (循环,或者递归), 不断缩小范围,直到查找成功或者失败(要查找的元素不在序列中)\n",
    "4. 顺序查找、二分查找、块查找(索引)、哈希查找(hash)"
   ]
  },
  {
   "cell_type": "code",
   "execution_count": 21,
   "metadata": {},
   "outputs": [
    {
     "name": "stdout",
     "output_type": "stream",
     "text": [
      "[3, 3, 6, 6, 6, 8, 9, 10, 11, 16, 16, 18, 19, 21, 22, 22, 26, 29, 29, 29]\n",
      "index is 7\n"
     ]
    }
   ],
   "source": [
    "def binarySearch(lst,value):\n",
    "    start = 0\n",
    "    end = len(lst)\n",
    "    while start < end:\n",
    "        # 计算中间位置\n",
    "        middle = (start + end) // 2\n",
    "        if value == lst[middle]:\n",
    "            return middle\n",
    "        # 在后面一半的元素中查找\n",
    "        elif value > lst[middle]:\n",
    "            start = middle + 1\n",
    "        # 在前面一半的元素中查找\n",
    "        elif value < lst[middle]:\n",
    "            end = middle - 1\n",
    "    # 查找不成功返回为False\n",
    "    return False\n",
    "\n",
    "from random import randint  # 函数、类、变量\n",
    "\n",
    "lst = [randint(1,30) for i in range(20)]\n",
    "# 给序列进行排序\n",
    "lst.sort()\n",
    "print(lst)\n",
    "result = binarySearch(lst,10)\n",
    "if result != False:\n",
    "    print('index is',result)\n",
    "else:\n",
    "    print('Fail Not exist!')"
   ]
  },
  {
   "cell_type": "code",
   "execution_count": 13,
   "metadata": {},
   "outputs": [
    {
     "data": {
      "text/plain": [
       "1"
      ]
     },
     "execution_count": 13,
     "metadata": {},
     "output_type": "execute_result"
    }
   ],
   "source": [
    "3 // 2"
   ]
  },
  {
   "cell_type": "code",
   "execution_count": null,
   "metadata": {},
   "outputs": [],
   "source": []
  }
 ],
 "metadata": {
  "kernelspec": {
   "display_name": "Python 3",
   "language": "python",
   "name": "python3"
  },
  "language_info": {
   "codemirror_mode": {
    "name": "ipython",
    "version": 3
   },
   "file_extension": ".py",
   "mimetype": "text/x-python",
   "name": "python",
   "nbconvert_exporter": "python",
   "pygments_lexer": "ipython3",
   "version": "3.7.6"
  }
 },
 "nbformat": 4,
 "nbformat_minor": 4
}
